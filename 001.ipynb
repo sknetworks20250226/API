{
 "cells": [
  {
   "cell_type": "code",
   "execution_count": 2,
   "id": "782239c5",
   "metadata": {},
   "outputs": [
    {
     "name": "stdout",
     "output_type": "stream",
     "text": [
      "Requirement already satisfied: dotenv in c:\\users\\user\\miniconda3\\envs\\api\\lib\\site-packages (0.9.9)\n",
      "Requirement already satisfied: python-dotenv in c:\\users\\user\\miniconda3\\envs\\api\\lib\\site-packages (from dotenv) (1.1.0)\n",
      "Note: you may need to restart the kernel to use updated packages.\n"
     ]
    }
   ],
   "source": [
    "%pip install dotenv"
   ]
  },
  {
   "cell_type": "code",
   "execution_count": 3,
   "id": "a428ce9f",
   "metadata": {},
   "outputs": [
    {
     "name": "stdout",
     "output_type": "stream",
     "text": [
      "pcsk_...\n",
      "sk-pr...\n"
     ]
    }
   ],
   "source": [
    "import os\n",
    "from dotenv import load_dotenv\n",
    "load_dotenv()\n",
    "print(os.environ['PINECONE_API_KEY'][:5] + '...')\n",
    "print(os.environ['OPENAI_API_KEY'][:5] + '...')"
   ]
  },
  {
   "cell_type": "code",
   "execution_count": 4,
   "id": "9ec5d671",
   "metadata": {},
   "outputs": [],
   "source": [
    "pinecone_api_key = os.environ['PINECONE_API_KEY']"
   ]
  },
  {
   "cell_type": "code",
   "execution_count": 5,
   "id": "a46efff3",
   "metadata": {},
   "outputs": [
    {
     "name": "stdout",
     "output_type": "stream",
     "text": [
      "Requirement already satisfied: pinecone in c:\\users\\user\\miniconda3\\envs\\api\\lib\\site-packages (7.0.2)\n",
      "Requirement already satisfied: certifi>=2019.11.17 in c:\\users\\user\\miniconda3\\envs\\api\\lib\\site-packages (from pinecone) (2025.4.26)\n",
      "Requirement already satisfied: pinecone-plugin-assistant<2.0.0,>=1.6.0 in c:\\users\\user\\miniconda3\\envs\\api\\lib\\site-packages (from pinecone) (1.6.1)\n",
      "Requirement already satisfied: pinecone-plugin-interface<0.0.8,>=0.0.7 in c:\\users\\user\\miniconda3\\envs\\api\\lib\\site-packages (from pinecone) (0.0.7)\n",
      "Requirement already satisfied: python-dateutil>=2.5.3 in c:\\users\\user\\appdata\\roaming\\python\\python313\\site-packages (from pinecone) (2.9.0.post0)\n",
      "Requirement already satisfied: typing-extensions>=3.7.4 in c:\\users\\user\\miniconda3\\envs\\api\\lib\\site-packages (from pinecone) (4.14.0)\n",
      "Requirement already satisfied: urllib3>=1.26.5 in c:\\users\\user\\miniconda3\\envs\\api\\lib\\site-packages (from pinecone) (2.4.0)\n",
      "Requirement already satisfied: packaging<25.0,>=24.2 in c:\\users\\user\\appdata\\roaming\\python\\python313\\site-packages (from pinecone-plugin-assistant<2.0.0,>=1.6.0->pinecone) (24.2)\n",
      "Requirement already satisfied: requests<3.0.0,>=2.32.3 in c:\\users\\user\\miniconda3\\envs\\api\\lib\\site-packages (from pinecone-plugin-assistant<2.0.0,>=1.6.0->pinecone) (2.32.3)\n",
      "Requirement already satisfied: charset-normalizer<4,>=2 in c:\\users\\user\\miniconda3\\envs\\api\\lib\\site-packages (from requests<3.0.0,>=2.32.3->pinecone-plugin-assistant<2.0.0,>=1.6.0->pinecone) (3.4.2)\n",
      "Requirement already satisfied: idna<4,>=2.5 in c:\\users\\user\\miniconda3\\envs\\api\\lib\\site-packages (from requests<3.0.0,>=2.32.3->pinecone-plugin-assistant<2.0.0,>=1.6.0->pinecone) (3.10)\n",
      "Requirement already satisfied: six>=1.5 in c:\\users\\user\\appdata\\roaming\\python\\python313\\site-packages (from python-dateutil>=2.5.3->pinecone) (1.17.0)\n",
      "Note: you may need to restart the kernel to use updated packages.\n"
     ]
    }
   ],
   "source": [
    "%pip install pinecone"
   ]
  },
  {
   "cell_type": "code",
   "execution_count": 6,
   "id": "73e8a615",
   "metadata": {},
   "outputs": [],
   "source": [
    "import pinecone\n",
    "from pinecone import Pinecone, ServerlessSpec\n",
    "# 객체 생성\n",
    "pc = Pinecone(api_key=pinecone_api_key)"
   ]
  },
  {
   "cell_type": "code",
   "execution_count": 7,
   "id": "93106b5b",
   "metadata": {},
   "outputs": [
    {
     "name": "stdout",
     "output_type": "stream",
     "text": [
      "Requirement already satisfied: langchain_openai in c:\\users\\user\\miniconda3\\envs\\api\\lib\\site-packages (0.3.19)\n",
      "Requirement already satisfied: langchain-core<1.0.0,>=0.3.63 in c:\\users\\user\\miniconda3\\envs\\api\\lib\\site-packages (from langchain_openai) (0.3.63)\n",
      "Requirement already satisfied: openai<2.0.0,>=1.68.2 in c:\\users\\user\\miniconda3\\envs\\api\\lib\\site-packages (from langchain_openai) (1.84.0)\n",
      "Requirement already satisfied: tiktoken<1,>=0.7 in c:\\users\\user\\miniconda3\\envs\\api\\lib\\site-packages (from langchain_openai) (0.9.0)\n",
      "Requirement already satisfied: langsmith<0.4,>=0.1.126 in c:\\users\\user\\miniconda3\\envs\\api\\lib\\site-packages (from langchain-core<1.0.0,>=0.3.63->langchain_openai) (0.3.45)\n",
      "Requirement already satisfied: tenacity!=8.4.0,<10.0.0,>=8.1.0 in c:\\users\\user\\miniconda3\\envs\\api\\lib\\site-packages (from langchain-core<1.0.0,>=0.3.63->langchain_openai) (9.1.2)\n",
      "Requirement already satisfied: jsonpatch<2.0,>=1.33 in c:\\users\\user\\miniconda3\\envs\\api\\lib\\site-packages (from langchain-core<1.0.0,>=0.3.63->langchain_openai) (1.33)\n",
      "Requirement already satisfied: PyYAML>=5.3 in c:\\users\\user\\miniconda3\\envs\\api\\lib\\site-packages (from langchain-core<1.0.0,>=0.3.63->langchain_openai) (6.0.2)\n",
      "Requirement already satisfied: packaging<25,>=23.2 in c:\\users\\user\\appdata\\roaming\\python\\python313\\site-packages (from langchain-core<1.0.0,>=0.3.63->langchain_openai) (24.2)\n",
      "Requirement already satisfied: typing-extensions>=4.7 in c:\\users\\user\\miniconda3\\envs\\api\\lib\\site-packages (from langchain-core<1.0.0,>=0.3.63->langchain_openai) (4.14.0)\n",
      "Requirement already satisfied: pydantic>=2.7.4 in c:\\users\\user\\miniconda3\\envs\\api\\lib\\site-packages (from langchain-core<1.0.0,>=0.3.63->langchain_openai) (2.11.5)\n",
      "Requirement already satisfied: jsonpointer>=1.9 in c:\\users\\user\\miniconda3\\envs\\api\\lib\\site-packages (from jsonpatch<2.0,>=1.33->langchain-core<1.0.0,>=0.3.63->langchain_openai) (3.0.0)\n",
      "Requirement already satisfied: httpx<1,>=0.23.0 in c:\\users\\user\\miniconda3\\envs\\api\\lib\\site-packages (from langsmith<0.4,>=0.1.126->langchain-core<1.0.0,>=0.3.63->langchain_openai) (0.28.1)\n",
      "Requirement already satisfied: orjson<4.0.0,>=3.9.14 in c:\\users\\user\\miniconda3\\envs\\api\\lib\\site-packages (from langsmith<0.4,>=0.1.126->langchain-core<1.0.0,>=0.3.63->langchain_openai) (3.10.18)\n",
      "Requirement already satisfied: requests<3,>=2 in c:\\users\\user\\miniconda3\\envs\\api\\lib\\site-packages (from langsmith<0.4,>=0.1.126->langchain-core<1.0.0,>=0.3.63->langchain_openai) (2.32.3)\n",
      "Requirement already satisfied: requests-toolbelt<2.0.0,>=1.0.0 in c:\\users\\user\\miniconda3\\envs\\api\\lib\\site-packages (from langsmith<0.4,>=0.1.126->langchain-core<1.0.0,>=0.3.63->langchain_openai) (1.0.0)\n",
      "Requirement already satisfied: zstandard<0.24.0,>=0.23.0 in c:\\users\\user\\miniconda3\\envs\\api\\lib\\site-packages (from langsmith<0.4,>=0.1.126->langchain-core<1.0.0,>=0.3.63->langchain_openai) (0.23.0)\n",
      "Requirement already satisfied: anyio in c:\\users\\user\\miniconda3\\envs\\api\\lib\\site-packages (from httpx<1,>=0.23.0->langsmith<0.4,>=0.1.126->langchain-core<1.0.0,>=0.3.63->langchain_openai) (4.9.0)\n",
      "Requirement already satisfied: certifi in c:\\users\\user\\miniconda3\\envs\\api\\lib\\site-packages (from httpx<1,>=0.23.0->langsmith<0.4,>=0.1.126->langchain-core<1.0.0,>=0.3.63->langchain_openai) (2025.4.26)\n",
      "Requirement already satisfied: httpcore==1.* in c:\\users\\user\\miniconda3\\envs\\api\\lib\\site-packages (from httpx<1,>=0.23.0->langsmith<0.4,>=0.1.126->langchain-core<1.0.0,>=0.3.63->langchain_openai) (1.0.9)\n",
      "Requirement already satisfied: idna in c:\\users\\user\\miniconda3\\envs\\api\\lib\\site-packages (from httpx<1,>=0.23.0->langsmith<0.4,>=0.1.126->langchain-core<1.0.0,>=0.3.63->langchain_openai) (3.10)\n",
      "Requirement already satisfied: h11>=0.16 in c:\\users\\user\\miniconda3\\envs\\api\\lib\\site-packages (from httpcore==1.*->httpx<1,>=0.23.0->langsmith<0.4,>=0.1.126->langchain-core<1.0.0,>=0.3.63->langchain_openai) (0.16.0)\n",
      "Requirement already satisfied: distro<2,>=1.7.0 in c:\\users\\user\\miniconda3\\envs\\api\\lib\\site-packages (from openai<2.0.0,>=1.68.2->langchain_openai) (1.9.0)\n",
      "Requirement already satisfied: jiter<1,>=0.4.0 in c:\\users\\user\\miniconda3\\envs\\api\\lib\\site-packages (from openai<2.0.0,>=1.68.2->langchain_openai) (0.10.0)\n",
      "Requirement already satisfied: sniffio in c:\\users\\user\\miniconda3\\envs\\api\\lib\\site-packages (from openai<2.0.0,>=1.68.2->langchain_openai) (1.3.1)\n",
      "Requirement already satisfied: tqdm>4 in c:\\users\\user\\miniconda3\\envs\\api\\lib\\site-packages (from openai<2.0.0,>=1.68.2->langchain_openai) (4.67.1)\n",
      "Requirement already satisfied: annotated-types>=0.6.0 in c:\\users\\user\\miniconda3\\envs\\api\\lib\\site-packages (from pydantic>=2.7.4->langchain-core<1.0.0,>=0.3.63->langchain_openai) (0.7.0)\n",
      "Requirement already satisfied: pydantic-core==2.33.2 in c:\\users\\user\\miniconda3\\envs\\api\\lib\\site-packages (from pydantic>=2.7.4->langchain-core<1.0.0,>=0.3.63->langchain_openai) (2.33.2)\n",
      "Requirement already satisfied: typing-inspection>=0.4.0 in c:\\users\\user\\miniconda3\\envs\\api\\lib\\site-packages (from pydantic>=2.7.4->langchain-core<1.0.0,>=0.3.63->langchain_openai) (0.4.1)\n",
      "Requirement already satisfied: charset-normalizer<4,>=2 in c:\\users\\user\\miniconda3\\envs\\api\\lib\\site-packages (from requests<3,>=2->langsmith<0.4,>=0.1.126->langchain-core<1.0.0,>=0.3.63->langchain_openai) (3.4.2)\n",
      "Requirement already satisfied: urllib3<3,>=1.21.1 in c:\\users\\user\\miniconda3\\envs\\api\\lib\\site-packages (from requests<3,>=2->langsmith<0.4,>=0.1.126->langchain-core<1.0.0,>=0.3.63->langchain_openai) (2.4.0)\n",
      "Requirement already satisfied: regex>=2022.1.18 in c:\\users\\user\\miniconda3\\envs\\api\\lib\\site-packages (from tiktoken<1,>=0.7->langchain_openai) (2024.11.6)\n",
      "Requirement already satisfied: colorama in c:\\users\\user\\appdata\\roaming\\python\\python313\\site-packages (from tqdm>4->openai<2.0.0,>=1.68.2->langchain_openai) (0.4.6)\n",
      "Note: you may need to restart the kernel to use updated packages.\n"
     ]
    }
   ],
   "source": [
    "%pip install langchain_openai"
   ]
  },
  {
   "cell_type": "code",
   "execution_count": 8,
   "id": "748a17b0",
   "metadata": {},
   "outputs": [],
   "source": [
    "index_name = 'sample-index'\n",
    "model_name = 'text-embedding-3-small'\n",
    "embedding_dim = 1536  # 모델이 지원하는 임베딩 차원하고 같게\n",
    "# 인덱스 생성 - DB생성\n",
    "if not pc.has_index(index_name):\n",
    "    pc.create_index(name=index_name,\n",
    "                    dimension=embedding_dim,\n",
    "                    spec=ServerlessSpec(\n",
    "                       cloud='aws',\n",
    "                        region='us-east-1'\n",
    "                    )\n",
    "    )\n",
    "# 인덱스 객체 연결\n",
    "index = pc.Index(index_name)\n",
    "# openAI의 임베딩 모델 설정(text-embedding-3-small)\n",
    "from langchain_openai import OpenAIEmbeddings\n",
    "embeddings = OpenAIEmbeddings(model = model_name)  "
   ]
  },
  {
   "cell_type": "code",
   "execution_count": 9,
   "id": "fc8d0ec8",
   "metadata": {},
   "outputs": [
    {
     "name": "stdout",
     "output_type": "stream",
     "text": [
      "Requirement already satisfied: langchain_pinecone in c:\\users\\user\\miniconda3\\envs\\api\\lib\\site-packages (0.2.8)Note: you may need to restart the kernel to use updated packages.\n",
      "\n",
      "Requirement already satisfied: langchain-core<1.0.0,>=0.3.34 in c:\\users\\user\\miniconda3\\envs\\api\\lib\\site-packages (from langchain_pinecone) (0.3.63)\n",
      "Requirement already satisfied: pinecone<8.0.0,>=6.0.0 in c:\\users\\user\\miniconda3\\envs\\api\\lib\\site-packages (from pinecone[asyncio]<8.0.0,>=6.0.0->langchain_pinecone) (7.0.2)\n",
      "Requirement already satisfied: numpy>=1.26.4 in c:\\users\\user\\miniconda3\\envs\\api\\lib\\site-packages (from langchain_pinecone) (2.2.6)\n",
      "Requirement already satisfied: langchain-tests<1.0.0,>=0.3.7 in c:\\users\\user\\miniconda3\\envs\\api\\lib\\site-packages (from langchain_pinecone) (0.3.19)\n",
      "Requirement already satisfied: langchain-openai>=0.3.11 in c:\\users\\user\\miniconda3\\envs\\api\\lib\\site-packages (from langchain_pinecone) (0.3.19)\n",
      "Requirement already satisfied: langsmith<0.4,>=0.1.126 in c:\\users\\user\\miniconda3\\envs\\api\\lib\\site-packages (from langchain-core<1.0.0,>=0.3.34->langchain_pinecone) (0.3.45)\n",
      "Requirement already satisfied: tenacity!=8.4.0,<10.0.0,>=8.1.0 in c:\\users\\user\\miniconda3\\envs\\api\\lib\\site-packages (from langchain-core<1.0.0,>=0.3.34->langchain_pinecone) (9.1.2)\n",
      "Requirement already satisfied: jsonpatch<2.0,>=1.33 in c:\\users\\user\\miniconda3\\envs\\api\\lib\\site-packages (from langchain-core<1.0.0,>=0.3.34->langchain_pinecone) (1.33)\n",
      "Requirement already satisfied: PyYAML>=5.3 in c:\\users\\user\\miniconda3\\envs\\api\\lib\\site-packages (from langchain-core<1.0.0,>=0.3.34->langchain_pinecone) (6.0.2)\n",
      "Requirement already satisfied: packaging<25,>=23.2 in c:\\users\\user\\appdata\\roaming\\python\\python313\\site-packages (from langchain-core<1.0.0,>=0.3.34->langchain_pinecone) (24.2)\n",
      "Requirement already satisfied: typing-extensions>=4.7 in c:\\users\\user\\miniconda3\\envs\\api\\lib\\site-packages (from langchain-core<1.0.0,>=0.3.34->langchain_pinecone) (4.14.0)\n",
      "Requirement already satisfied: pydantic>=2.7.4 in c:\\users\\user\\miniconda3\\envs\\api\\lib\\site-packages (from langchain-core<1.0.0,>=0.3.34->langchain_pinecone) (2.11.5)\n",
      "Requirement already satisfied: jsonpointer>=1.9 in c:\\users\\user\\miniconda3\\envs\\api\\lib\\site-packages (from jsonpatch<2.0,>=1.33->langchain-core<1.0.0,>=0.3.34->langchain_pinecone) (3.0.0)\n",
      "Requirement already satisfied: pytest<9,>=7 in c:\\users\\user\\miniconda3\\envs\\api\\lib\\site-packages (from langchain-tests<1.0.0,>=0.3.7->langchain_pinecone) (8.4.0)\n",
      "Requirement already satisfied: pytest-asyncio<1,>=0.20 in c:\\users\\user\\miniconda3\\envs\\api\\lib\\site-packages (from langchain-tests<1.0.0,>=0.3.7->langchain_pinecone) (0.26.0)\n",
      "Requirement already satisfied: httpx<1,>=0.25.0 in c:\\users\\user\\miniconda3\\envs\\api\\lib\\site-packages (from langchain-tests<1.0.0,>=0.3.7->langchain_pinecone) (0.28.1)\n",
      "Requirement already satisfied: syrupy<5,>=4 in c:\\users\\user\\miniconda3\\envs\\api\\lib\\site-packages (from langchain-tests<1.0.0,>=0.3.7->langchain_pinecone) (4.9.1)\n",
      "Requirement already satisfied: pytest-socket<1,>=0.6.0 in c:\\users\\user\\miniconda3\\envs\\api\\lib\\site-packages (from langchain-tests<1.0.0,>=0.3.7->langchain_pinecone) (0.7.0)\n",
      "Requirement already satisfied: anyio in c:\\users\\user\\miniconda3\\envs\\api\\lib\\site-packages (from httpx<1,>=0.25.0->langchain-tests<1.0.0,>=0.3.7->langchain_pinecone) (4.9.0)\n",
      "Requirement already satisfied: certifi in c:\\users\\user\\miniconda3\\envs\\api\\lib\\site-packages (from httpx<1,>=0.25.0->langchain-tests<1.0.0,>=0.3.7->langchain_pinecone) (2025.4.26)\n",
      "Requirement already satisfied: httpcore==1.* in c:\\users\\user\\miniconda3\\envs\\api\\lib\\site-packages (from httpx<1,>=0.25.0->langchain-tests<1.0.0,>=0.3.7->langchain_pinecone) (1.0.9)\n",
      "Requirement already satisfied: idna in c:\\users\\user\\miniconda3\\envs\\api\\lib\\site-packages (from httpx<1,>=0.25.0->langchain-tests<1.0.0,>=0.3.7->langchain_pinecone) (3.10)\n",
      "Requirement already satisfied: h11>=0.16 in c:\\users\\user\\miniconda3\\envs\\api\\lib\\site-packages (from httpcore==1.*->httpx<1,>=0.25.0->langchain-tests<1.0.0,>=0.3.7->langchain_pinecone) (0.16.0)\n",
      "Requirement already satisfied: orjson<4.0.0,>=3.9.14 in c:\\users\\user\\miniconda3\\envs\\api\\lib\\site-packages (from langsmith<0.4,>=0.1.126->langchain-core<1.0.0,>=0.3.34->langchain_pinecone) (3.10.18)\n",
      "Requirement already satisfied: requests<3,>=2 in c:\\users\\user\\miniconda3\\envs\\api\\lib\\site-packages (from langsmith<0.4,>=0.1.126->langchain-core<1.0.0,>=0.3.34->langchain_pinecone) (2.32.3)\n",
      "Requirement already satisfied: requests-toolbelt<2.0.0,>=1.0.0 in c:\\users\\user\\miniconda3\\envs\\api\\lib\\site-packages (from langsmith<0.4,>=0.1.126->langchain-core<1.0.0,>=0.3.34->langchain_pinecone) (1.0.0)\n",
      "Requirement already satisfied: zstandard<0.24.0,>=0.23.0 in c:\\users\\user\\miniconda3\\envs\\api\\lib\\site-packages (from langsmith<0.4,>=0.1.126->langchain-core<1.0.0,>=0.3.34->langchain_pinecone) (0.23.0)\n",
      "Requirement already satisfied: pinecone-plugin-assistant<2.0.0,>=1.6.0 in c:\\users\\user\\miniconda3\\envs\\api\\lib\\site-packages (from pinecone<8.0.0,>=6.0.0->pinecone[asyncio]<8.0.0,>=6.0.0->langchain_pinecone) (1.6.1)\n",
      "Requirement already satisfied: pinecone-plugin-interface<0.0.8,>=0.0.7 in c:\\users\\user\\miniconda3\\envs\\api\\lib\\site-packages (from pinecone<8.0.0,>=6.0.0->pinecone[asyncio]<8.0.0,>=6.0.0->langchain_pinecone) (0.0.7)\n",
      "Requirement already satisfied: python-dateutil>=2.5.3 in c:\\users\\user\\appdata\\roaming\\python\\python313\\site-packages (from pinecone<8.0.0,>=6.0.0->pinecone[asyncio]<8.0.0,>=6.0.0->langchain_pinecone) (2.9.0.post0)\n",
      "Requirement already satisfied: urllib3>=1.26.5 in c:\\users\\user\\miniconda3\\envs\\api\\lib\\site-packages (from pinecone<8.0.0,>=6.0.0->pinecone[asyncio]<8.0.0,>=6.0.0->langchain_pinecone) (2.4.0)\n",
      "Requirement already satisfied: aiohttp>=3.9.0 in c:\\users\\user\\miniconda3\\envs\\api\\lib\\site-packages (from pinecone[asyncio]<8.0.0,>=6.0.0->langchain_pinecone) (3.12.9)\n",
      "Requirement already satisfied: aiohttp-retry<3.0.0,>=2.9.1 in c:\\users\\user\\miniconda3\\envs\\api\\lib\\site-packages (from pinecone[asyncio]<8.0.0,>=6.0.0->langchain_pinecone) (2.9.1)\n",
      "Requirement already satisfied: annotated-types>=0.6.0 in c:\\users\\user\\miniconda3\\envs\\api\\lib\\site-packages (from pydantic>=2.7.4->langchain-core<1.0.0,>=0.3.34->langchain_pinecone) (0.7.0)\n",
      "Requirement already satisfied: pydantic-core==2.33.2 in c:\\users\\user\\miniconda3\\envs\\api\\lib\\site-packages (from pydantic>=2.7.4->langchain-core<1.0.0,>=0.3.34->langchain_pinecone) (2.33.2)\n",
      "Requirement already satisfied: typing-inspection>=0.4.0 in c:\\users\\user\\miniconda3\\envs\\api\\lib\\site-packages (from pydantic>=2.7.4->langchain-core<1.0.0,>=0.3.34->langchain_pinecone) (0.4.1)\n",
      "Requirement already satisfied: colorama>=0.4 in c:\\users\\user\\appdata\\roaming\\python\\python313\\site-packages (from pytest<9,>=7->langchain-tests<1.0.0,>=0.3.7->langchain_pinecone) (0.4.6)\n",
      "Requirement already satisfied: iniconfig>=1 in c:\\users\\user\\miniconda3\\envs\\api\\lib\\site-packages (from pytest<9,>=7->langchain-tests<1.0.0,>=0.3.7->langchain_pinecone) (2.1.0)\n",
      "Requirement already satisfied: pluggy<2,>=1.5 in c:\\users\\user\\miniconda3\\envs\\api\\lib\\site-packages (from pytest<9,>=7->langchain-tests<1.0.0,>=0.3.7->langchain_pinecone) (1.6.0)\n",
      "Requirement already satisfied: pygments>=2.7.2 in c:\\users\\user\\appdata\\roaming\\python\\python313\\site-packages (from pytest<9,>=7->langchain-tests<1.0.0,>=0.3.7->langchain_pinecone) (2.18.0)\n",
      "Requirement already satisfied: charset-normalizer<4,>=2 in c:\\users\\user\\miniconda3\\envs\\api\\lib\\site-packages (from requests<3,>=2->langsmith<0.4,>=0.1.126->langchain-core<1.0.0,>=0.3.34->langchain_pinecone) (3.4.2)\n",
      "Requirement already satisfied: aiohappyeyeballs>=2.5.0 in c:\\users\\user\\miniconda3\\envs\\api\\lib\\site-packages (from aiohttp>=3.9.0->pinecone[asyncio]<8.0.0,>=6.0.0->langchain_pinecone) (2.6.1)\n",
      "Requirement already satisfied: aiosignal>=1.1.2 in c:\\users\\user\\miniconda3\\envs\\api\\lib\\site-packages (from aiohttp>=3.9.0->pinecone[asyncio]<8.0.0,>=6.0.0->langchain_pinecone) (1.3.2)\n",
      "Requirement already satisfied: attrs>=17.3.0 in c:\\users\\user\\miniconda3\\envs\\api\\lib\\site-packages (from aiohttp>=3.9.0->pinecone[asyncio]<8.0.0,>=6.0.0->langchain_pinecone) (25.3.0)\n",
      "Requirement already satisfied: frozenlist>=1.1.1 in c:\\users\\user\\miniconda3\\envs\\api\\lib\\site-packages (from aiohttp>=3.9.0->pinecone[asyncio]<8.0.0,>=6.0.0->langchain_pinecone) (1.6.2)\n",
      "Requirement already satisfied: multidict<7.0,>=4.5 in c:\\users\\user\\miniconda3\\envs\\api\\lib\\site-packages (from aiohttp>=3.9.0->pinecone[asyncio]<8.0.0,>=6.0.0->langchain_pinecone) (6.4.4)\n",
      "Requirement already satisfied: propcache>=0.2.0 in c:\\users\\user\\miniconda3\\envs\\api\\lib\\site-packages (from aiohttp>=3.9.0->pinecone[asyncio]<8.0.0,>=6.0.0->langchain_pinecone) (0.3.1)\n",
      "Requirement already satisfied: yarl<2.0,>=1.17.0 in c:\\users\\user\\miniconda3\\envs\\api\\lib\\site-packages (from aiohttp>=3.9.0->pinecone[asyncio]<8.0.0,>=6.0.0->langchain_pinecone) (1.20.0)\n",
      "Requirement already satisfied: openai<2.0.0,>=1.68.2 in c:\\users\\user\\miniconda3\\envs\\api\\lib\\site-packages (from langchain-openai>=0.3.11->langchain_pinecone) (1.84.0)\n",
      "Requirement already satisfied: tiktoken<1,>=0.7 in c:\\users\\user\\miniconda3\\envs\\api\\lib\\site-packages (from langchain-openai>=0.3.11->langchain_pinecone) (0.9.0)\n",
      "Requirement already satisfied: distro<2,>=1.7.0 in c:\\users\\user\\miniconda3\\envs\\api\\lib\\site-packages (from openai<2.0.0,>=1.68.2->langchain-openai>=0.3.11->langchain_pinecone) (1.9.0)\n",
      "Requirement already satisfied: jiter<1,>=0.4.0 in c:\\users\\user\\miniconda3\\envs\\api\\lib\\site-packages (from openai<2.0.0,>=1.68.2->langchain-openai>=0.3.11->langchain_pinecone) (0.10.0)\n",
      "Requirement already satisfied: sniffio in c:\\users\\user\\miniconda3\\envs\\api\\lib\\site-packages (from openai<2.0.0,>=1.68.2->langchain-openai>=0.3.11->langchain_pinecone) (1.3.1)\n",
      "Requirement already satisfied: tqdm>4 in c:\\users\\user\\miniconda3\\envs\\api\\lib\\site-packages (from openai<2.0.0,>=1.68.2->langchain-openai>=0.3.11->langchain_pinecone) (4.67.1)\n",
      "Requirement already satisfied: regex>=2022.1.18 in c:\\users\\user\\miniconda3\\envs\\api\\lib\\site-packages (from tiktoken<1,>=0.7->langchain-openai>=0.3.11->langchain_pinecone) (2024.11.6)\n",
      "Requirement already satisfied: six>=1.5 in c:\\users\\user\\appdata\\roaming\\python\\python313\\site-packages (from python-dateutil>=2.5.3->pinecone<8.0.0,>=6.0.0->pinecone[asyncio]<8.0.0,>=6.0.0->langchain_pinecone) (1.17.0)\n"
     ]
    }
   ],
   "source": [
    "%pip install langchain_pinecone"
   ]
  },
  {
   "cell_type": "code",
   "execution_count": null,
   "id": "496beee3",
   "metadata": {},
   "outputs": [
    {
     "name": "stdout",
     "output_type": "stream",
     "text": [
      "{'dimension': 1536,\n",
      " 'index_fullness': 0.0,\n",
      " 'metric': 'cosine',\n",
      " 'namespaces': {},\n",
      " 'total_vector_count': 0,\n",
      " 'vector_type': 'dense'}\n"
     ]
    }
   ],
   "source": [
    "# Doc 타입으로 데이터를 upset\n",
    "from langchain_core.documents import Document\n",
    "doc1 = Document(page_content=\"Building an exciting new project with LangChain - come check it out!\",\n",
    "                metadata={\"source\": \"tweet\"})\n",
    "doc2 = Document(page_content=\"The weather forecast for tomorrow is cloudy and overcast, with a high of 62 degrees.\",\n",
    "                metadata={\"source\": \"news\"})\n",
    "doc3 = Document(page_content=\"LangGraph is the best framework for building stateful, agentic applications!\",\n",
    "                metadata={\"source\": \"tweet\"})\n",
    "# 벡터스토어 초기화\n",
    "from langchain_pinecone import PineconeVectorStore\n",
    "vector_store = PineconeVectorStore(index=index,embedding=embeddings)\n",
    "vector_store.add_documents([doc1,doc2,doc3])"
   ]
  },
  {
   "cell_type": "code",
   "execution_count": 11,
   "id": "be25ccc6",
   "metadata": {},
   "outputs": [
    {
     "name": "stdout",
     "output_type": "stream",
     "text": [
      "{'dimension': 1536,\n",
      " 'index_fullness': 0.0,\n",
      " 'metric': 'cosine',\n",
      " 'namespaces': {'': {'vector_count': 3}},\n",
      " 'total_vector_count': 3,\n",
      " 'vector_type': 'dense'}\n"
     ]
    }
   ],
   "source": [
    "print(f'{index.describe_index_stats()}')"
   ]
  },
  {
   "cell_type": "code",
   "execution_count": null,
   "id": "54a1671b",
   "metadata": {},
   "outputs": [],
   "source": []
  }
 ],
 "metadata": {
  "kernelspec": {
   "display_name": "api",
   "language": "python",
   "name": "python3"
  },
  "language_info": {
   "codemirror_mode": {
    "name": "ipython",
    "version": 3
   },
   "file_extension": ".py",
   "mimetype": "text/x-python",
   "name": "python",
   "nbconvert_exporter": "python",
   "pygments_lexer": "ipython3",
   "version": "3.13.4"
  }
 },
 "nbformat": 4,
 "nbformat_minor": 5
}
