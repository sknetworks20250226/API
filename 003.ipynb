{
 "cells": [
  {
   "cell_type": "code",
   "execution_count": 1,
   "id": "ed7b7c8f",
   "metadata": {},
   "outputs": [],
   "source": [
    "movies = [\n",
    "    {\n",
    "        \"id\": \"movie1\",\n",
    "        \"title\": \"7번방의 선물\",\n",
    "        \"year\": 2013,\n",
    "        \"genre\": \"드라마\",\n",
    "        \"description\": \"억울한 누명을 쓰고 교도소에 수감된 아빠와 그의 어린 딸의 감동적인 스토리\"\n",
    "    },\n",
    "    {\n",
    "        \"id\": \"movie2\",\n",
    "        \"title\": \"미나리\",\n",
    "        \"year\": 2020,\n",
    "        \"genre\": \"드라마\",\n",
    "        \"description\": \"한국계 미국인 가족의 따뜻하고 감성적인 성장 이야기\"\n",
    "    },\n",
    "    {\n",
    "        \"id\": \"movie3\",\n",
    "        \"title\": \"기생충\",\n",
    "        \"year\": 2019,\n",
    "        \"genre\": \"드라마\",\n",
    "        \"description\": \"가난한 가족과 부자 가족 사이의 빈부격차를 그린 사회 풍자 드라마\"\n",
    "    },\n",
    "    {\n",
    "        \"id\": \"movie4\",\n",
    "        \"title\": \"범죄도시\",\n",
    "        \"year\": 2017,\n",
    "        \"genre\": \"범죄\",\n",
    "        \"description\": \"형사가 범죄 조직을 소탕하는 범죄 액션 영화\"\n",
    "    },\n",
    "    {\n",
    "        \"id\": \"movie5\",\n",
    "        \"title\": \"범죄도시 2\",\n",
    "        \"year\": 2022,\n",
    "        \"genre\": \"범죄\",\n",
    "        \"description\": \"형사와 범죄 조직의 대결을 그린 범죄 액션 영화의 속편\"\n",
    "    },\n",
    "    {\n",
    "        \"id\": \"movie6\",\n",
    "        \"title\": \"헤어질 결심\",\n",
    "        \"year\": 2022,\n",
    "        \"genre\": \"범죄\",\n",
    "        \"description\": \"산에서 발생한 의문의 죽음(살인 사건)을 수사하던 형사가 피의자에게 이끌리며 벌어지는 미스터리 멜로 영화\"\n",
    "    },\n",
    "    {\n",
    "        \"id\": \"movie7\",\n",
    "        \"title\": \"다만 악에서 구하소서\",\n",
    "        \"year\": 2020,\n",
    "        \"genre\": \"범죄\",\n",
    "        \"description\": \"청부 살인업자와 범죄 조직의 마지막 거래를 그린 범죄 액션 영화\"\n",
    "    }\n",
    "]"
   ]
  },
  {
   "cell_type": "code",
   "execution_count": 5,
   "id": "c6d47b5c",
   "metadata": {},
   "outputs": [
    {
     "name": "stdout",
     "output_type": "stream",
     "text": [
      "Requirement already satisfied: langchain in c:\\users\\user\\miniconda3\\envs\\api\\lib\\site-packages (0.3.25)\n",
      "Collecting langchain_community\n",
      "  Using cached langchain_community-0.3.24-py3-none-any.whl.metadata (2.5 kB)\n",
      "Requirement already satisfied: langchain-core<1.0.0,>=0.3.58 in c:\\users\\user\\miniconda3\\envs\\api\\lib\\site-packages (from langchain) (0.3.63)\n",
      "Requirement already satisfied: langchain-text-splitters<1.0.0,>=0.3.8 in c:\\users\\user\\miniconda3\\envs\\api\\lib\\site-packages (from langchain) (0.3.8)\n",
      "Requirement already satisfied: langsmith<0.4,>=0.1.17 in c:\\users\\user\\miniconda3\\envs\\api\\lib\\site-packages (from langchain) (0.3.45)\n",
      "Requirement already satisfied: pydantic<3.0.0,>=2.7.4 in c:\\users\\user\\miniconda3\\envs\\api\\lib\\site-packages (from langchain) (2.11.5)\n",
      "Requirement already satisfied: SQLAlchemy<3,>=1.4 in c:\\users\\user\\miniconda3\\envs\\api\\lib\\site-packages (from langchain) (2.0.41)\n",
      "Requirement already satisfied: requests<3,>=2 in c:\\users\\user\\miniconda3\\envs\\api\\lib\\site-packages (from langchain) (2.32.3)\n",
      "Requirement already satisfied: PyYAML>=5.3 in c:\\users\\user\\miniconda3\\envs\\api\\lib\\site-packages (from langchain) (6.0.2)\n",
      "Requirement already satisfied: tenacity!=8.4.0,<10.0.0,>=8.1.0 in c:\\users\\user\\miniconda3\\envs\\api\\lib\\site-packages (from langchain-core<1.0.0,>=0.3.58->langchain) (9.1.2)\n",
      "Requirement already satisfied: jsonpatch<2.0,>=1.33 in c:\\users\\user\\miniconda3\\envs\\api\\lib\\site-packages (from langchain-core<1.0.0,>=0.3.58->langchain) (1.33)\n",
      "Requirement already satisfied: packaging<25,>=23.2 in c:\\users\\user\\appdata\\roaming\\python\\python313\\site-packages (from langchain-core<1.0.0,>=0.3.58->langchain) (24.2)\n",
      "Requirement already satisfied: typing-extensions>=4.7 in c:\\users\\user\\miniconda3\\envs\\api\\lib\\site-packages (from langchain-core<1.0.0,>=0.3.58->langchain) (4.14.0)\n",
      "Requirement already satisfied: jsonpointer>=1.9 in c:\\users\\user\\miniconda3\\envs\\api\\lib\\site-packages (from jsonpatch<2.0,>=1.33->langchain-core<1.0.0,>=0.3.58->langchain) (3.0.0)\n",
      "Requirement already satisfied: httpx<1,>=0.23.0 in c:\\users\\user\\miniconda3\\envs\\api\\lib\\site-packages (from langsmith<0.4,>=0.1.17->langchain) (0.28.1)\n",
      "Requirement already satisfied: orjson<4.0.0,>=3.9.14 in c:\\users\\user\\miniconda3\\envs\\api\\lib\\site-packages (from langsmith<0.4,>=0.1.17->langchain) (3.10.18)\n",
      "Requirement already satisfied: requests-toolbelt<2.0.0,>=1.0.0 in c:\\users\\user\\miniconda3\\envs\\api\\lib\\site-packages (from langsmith<0.4,>=0.1.17->langchain) (1.0.0)\n",
      "Requirement already satisfied: zstandard<0.24.0,>=0.23.0 in c:\\users\\user\\miniconda3\\envs\\api\\lib\\site-packages (from langsmith<0.4,>=0.1.17->langchain) (0.23.0)\n",
      "Requirement already satisfied: anyio in c:\\users\\user\\miniconda3\\envs\\api\\lib\\site-packages (from httpx<1,>=0.23.0->langsmith<0.4,>=0.1.17->langchain) (4.9.0)\n",
      "Requirement already satisfied: certifi in c:\\users\\user\\miniconda3\\envs\\api\\lib\\site-packages (from httpx<1,>=0.23.0->langsmith<0.4,>=0.1.17->langchain) (2025.4.26)\n",
      "Requirement already satisfied: httpcore==1.* in c:\\users\\user\\miniconda3\\envs\\api\\lib\\site-packages (from httpx<1,>=0.23.0->langsmith<0.4,>=0.1.17->langchain) (1.0.9)\n",
      "Requirement already satisfied: idna in c:\\users\\user\\miniconda3\\envs\\api\\lib\\site-packages (from httpx<1,>=0.23.0->langsmith<0.4,>=0.1.17->langchain) (3.10)\n",
      "Requirement already satisfied: h11>=0.16 in c:\\users\\user\\miniconda3\\envs\\api\\lib\\site-packages (from httpcore==1.*->httpx<1,>=0.23.0->langsmith<0.4,>=0.1.17->langchain) (0.16.0)\n",
      "Requirement already satisfied: annotated-types>=0.6.0 in c:\\users\\user\\miniconda3\\envs\\api\\lib\\site-packages (from pydantic<3.0.0,>=2.7.4->langchain) (0.7.0)\n",
      "Requirement already satisfied: pydantic-core==2.33.2 in c:\\users\\user\\miniconda3\\envs\\api\\lib\\site-packages (from pydantic<3.0.0,>=2.7.4->langchain) (2.33.2)\n",
      "Requirement already satisfied: typing-inspection>=0.4.0 in c:\\users\\user\\miniconda3\\envs\\api\\lib\\site-packages (from pydantic<3.0.0,>=2.7.4->langchain) (0.4.1)\n",
      "Requirement already satisfied: charset-normalizer<4,>=2 in c:\\users\\user\\miniconda3\\envs\\api\\lib\\site-packages (from requests<3,>=2->langchain) (3.4.2)\n",
      "Requirement already satisfied: urllib3<3,>=1.21.1 in c:\\users\\user\\miniconda3\\envs\\api\\lib\\site-packages (from requests<3,>=2->langchain) (2.4.0)\n",
      "Requirement already satisfied: greenlet>=1 in c:\\users\\user\\miniconda3\\envs\\api\\lib\\site-packages (from SQLAlchemy<3,>=1.4->langchain) (3.2.2)\n",
      "Requirement already satisfied: aiohttp<4.0.0,>=3.8.3 in c:\\users\\user\\miniconda3\\envs\\api\\lib\\site-packages (from langchain_community) (3.12.9)\n",
      "Collecting dataclasses-json<0.7,>=0.5.7 (from langchain_community)\n",
      "  Using cached dataclasses_json-0.6.7-py3-none-any.whl.metadata (25 kB)\n",
      "Collecting pydantic-settings<3.0.0,>=2.4.0 (from langchain_community)\n",
      "  Using cached pydantic_settings-2.9.1-py3-none-any.whl.metadata (3.8 kB)\n",
      "Collecting httpx-sse<1.0.0,>=0.4.0 (from langchain_community)\n",
      "  Using cached httpx_sse-0.4.0-py3-none-any.whl.metadata (9.0 kB)\n",
      "Requirement already satisfied: numpy>=2.1.0 in c:\\users\\user\\miniconda3\\envs\\api\\lib\\site-packages (from langchain_community) (2.2.6)\n",
      "Requirement already satisfied: aiohappyeyeballs>=2.5.0 in c:\\users\\user\\miniconda3\\envs\\api\\lib\\site-packages (from aiohttp<4.0.0,>=3.8.3->langchain_community) (2.6.1)\n",
      "Requirement already satisfied: aiosignal>=1.1.2 in c:\\users\\user\\miniconda3\\envs\\api\\lib\\site-packages (from aiohttp<4.0.0,>=3.8.3->langchain_community) (1.3.2)\n",
      "Requirement already satisfied: attrs>=17.3.0 in c:\\users\\user\\miniconda3\\envs\\api\\lib\\site-packages (from aiohttp<4.0.0,>=3.8.3->langchain_community) (25.3.0)\n",
      "Requirement already satisfied: frozenlist>=1.1.1 in c:\\users\\user\\miniconda3\\envs\\api\\lib\\site-packages (from aiohttp<4.0.0,>=3.8.3->langchain_community) (1.6.2)\n",
      "Requirement already satisfied: multidict<7.0,>=4.5 in c:\\users\\user\\miniconda3\\envs\\api\\lib\\site-packages (from aiohttp<4.0.0,>=3.8.3->langchain_community) (6.4.4)\n",
      "Requirement already satisfied: propcache>=0.2.0 in c:\\users\\user\\miniconda3\\envs\\api\\lib\\site-packages (from aiohttp<4.0.0,>=3.8.3->langchain_community) (0.3.1)\n",
      "Requirement already satisfied: yarl<2.0,>=1.17.0 in c:\\users\\user\\miniconda3\\envs\\api\\lib\\site-packages (from aiohttp<4.0.0,>=3.8.3->langchain_community) (1.20.0)\n",
      "Collecting marshmallow<4.0.0,>=3.18.0 (from dataclasses-json<0.7,>=0.5.7->langchain_community)\n",
      "  Using cached marshmallow-3.26.1-py3-none-any.whl.metadata (7.3 kB)\n",
      "Collecting typing-inspect<1,>=0.4.0 (from dataclasses-json<0.7,>=0.5.7->langchain_community)\n",
      "  Using cached typing_inspect-0.9.0-py3-none-any.whl.metadata (1.5 kB)\n",
      "Requirement already satisfied: python-dotenv>=0.21.0 in c:\\users\\user\\miniconda3\\envs\\api\\lib\\site-packages (from pydantic-settings<3.0.0,>=2.4.0->langchain_community) (1.1.0)\n",
      "Collecting mypy-extensions>=0.3.0 (from typing-inspect<1,>=0.4.0->dataclasses-json<0.7,>=0.5.7->langchain_community)\n",
      "  Using cached mypy_extensions-1.1.0-py3-none-any.whl.metadata (1.1 kB)\n",
      "Requirement already satisfied: sniffio>=1.1 in c:\\users\\user\\miniconda3\\envs\\api\\lib\\site-packages (from anyio->httpx<1,>=0.23.0->langsmith<0.4,>=0.1.17->langchain) (1.3.1)\n",
      "Using cached langchain_community-0.3.24-py3-none-any.whl (2.5 MB)\n",
      "Using cached dataclasses_json-0.6.7-py3-none-any.whl (28 kB)\n",
      "Using cached httpx_sse-0.4.0-py3-none-any.whl (7.8 kB)\n",
      "Using cached marshmallow-3.26.1-py3-none-any.whl (50 kB)\n",
      "Using cached pydantic_settings-2.9.1-py3-none-any.whl (44 kB)\n",
      "Using cached typing_inspect-0.9.0-py3-none-any.whl (8.8 kB)\n",
      "Using cached mypy_extensions-1.1.0-py3-none-any.whl (5.0 kB)\n",
      "Installing collected packages: mypy-extensions, marshmallow, httpx-sse, typing-inspect, pydantic-settings, dataclasses-json, langchain_community\n",
      "\n",
      "   ---------------------- ----------------- 4/7 [pydantic-settings]\n",
      "   ---------------------------------- ----- 6/7 [langchain_community]\n",
      "   ---------------------------------- ----- 6/7 [langchain_community]\n",
      "   ---------------------------------- ----- 6/7 [langchain_community]\n",
      "   ---------------------------------- ----- 6/7 [langchain_community]\n",
      "   ---------------------------------- ----- 6/7 [langchain_community]\n",
      "   ---------------------------------- ----- 6/7 [langchain_community]\n",
      "   ---------------------------------- ----- 6/7 [langchain_community]\n",
      "   ---------------------------------- ----- 6/7 [langchain_community]\n",
      "   ---------------------------------- ----- 6/7 [langchain_community]\n",
      "   ---------------------------------- ----- 6/7 [langchain_community]\n",
      "   ---------------------------------- ----- 6/7 [langchain_community]\n",
      "   ---------------------------------- ----- 6/7 [langchain_community]\n",
      "   ---------------------------------- ----- 6/7 [langchain_community]\n",
      "   ---------------------------------- ----- 6/7 [langchain_community]\n",
      "   ---------------------------------- ----- 6/7 [langchain_community]\n",
      "   ---------------------------------- ----- 6/7 [langchain_community]\n",
      "   ---------------------------------- ----- 6/7 [langchain_community]\n",
      "   ---------------------------------- ----- 6/7 [langchain_community]\n",
      "   ---------------------------------- ----- 6/7 [langchain_community]\n",
      "   ---------------------------------- ----- 6/7 [langchain_community]\n",
      "   ---------------------------------- ----- 6/7 [langchain_community]\n",
      "   ---------------------------------- ----- 6/7 [langchain_community]\n",
      "   ---------------------------------- ----- 6/7 [langchain_community]\n",
      "   ---------------------------------- ----- 6/7 [langchain_community]\n",
      "   ---------------------------------------- 7/7 [langchain_community]\n",
      "\n",
      "Successfully installed dataclasses-json-0.6.7 httpx-sse-0.4.0 langchain_community-0.3.24 marshmallow-3.26.1 mypy-extensions-1.1.0 pydantic-settings-2.9.1 typing-inspect-0.9.0\n",
      "Note: you may need to restart the kernel to use updated packages.\n"
     ]
    }
   ],
   "source": [
    "%pip install langchain langchain_community"
   ]
  },
  {
   "cell_type": "code",
   "execution_count": 6,
   "id": "899dc4de",
   "metadata": {},
   "outputs": [
    {
     "name": "stderr",
     "output_type": "stream",
     "text": [
      "C:\\Users\\USER\\AppData\\Local\\Temp\\ipykernel_33032\\98617241.py:4: LangChainDeprecationWarning: The class `OpenAIEmbeddings` was deprecated in LangChain 0.0.9 and will be removed in 1.0. An updated version of the class exists in the :class:`~langchain-openai package and should be used instead. To use it run `pip install -U :class:`~langchain-openai` and import as `from :class:`~langchain_openai import OpenAIEmbeddings``.\n",
      "  embeddings = OpenAIEmbeddings(model=\"text-embedding-3-small\")\n"
     ]
    },
    {
     "name": "stdout",
     "output_type": "stream",
     "text": [
      "임베딩 벡터 차원: 1536\n"
     ]
    }
   ],
   "source": [
    "from langchain.embeddings import OpenAIEmbeddings\n",
    "import os\n",
    "# OpenAIEmbeddings 객체 생성 (모델명과 API 키 지정)\n",
    "embeddings = OpenAIEmbeddings(model=\"text-embedding-3-small\")\n",
    "\n",
    "# 모든 영화 설명에 대해 임베딩 벡터 생성\n",
    "descriptions = [movie[\"description\"] for movie in movies]        # 설명문 리스트\n",
    "movie_vectors = embeddings.embed_documents(descriptions)         # 각 설명문에 대한 임베딩 벡터 리스트 생성\n",
    "\n",
    "# 임베딩 벡터의 차원 확인 (예상: 1536차원)\n",
    "print(f\"임베딩 벡터 차원: {len(movie_vectors[0])}\")"
   ]
  },
  {
   "cell_type": "code",
   "execution_count": null,
   "id": "c3064d17",
   "metadata": {},
   "outputs": [],
   "source": [
    "from pinecone import Pinecone,ServerlessSpec\n",
    "\n",
    "pc = Pinecone(\n",
    "        api_key=os.environ.get(\"PINECONE_API_KEY\")\n",
    "    )\n",
    "\n",
    "# 인덱스 생성\n",
    "index_name = \"movi2-index\"\n",
    "if not pc.has_index(index_name):\n",
    "    pc.create_index(name=index_name,\n",
    "        dimension=1536,\n",
    "        metric='cosine',\n",
    "        spec=ServerlessSpec(\n",
    "            cloud='aws',\n",
    "            region='us-east-1'\n",
    "        )\n",
    "    )\n",
    "index = pc.Index(index_name)"
   ]
  },
  {
   "cell_type": "code",
   "execution_count": 9,
   "id": "5dfbde0f",
   "metadata": {},
   "outputs": [
    {
     "data": {
      "text/plain": [
       "{'upserted_count': 7}"
      ]
     },
     "execution_count": 9,
     "metadata": {},
     "output_type": "execute_result"
    }
   ],
   "source": [
    "# Pinecone에 벡터 업로드 (upsert)\n",
    "# 각 레코드는 (id, 벡터, metadata)의 형태로 준비\n",
    "vector_data = []\n",
    "for movie, vector in zip(movies, movie_vectors):\n",
    "    # metadata로 title, genre, year, description 저장\n",
    "    meta = {\n",
    "        \"title\": movie[\"title\"],\n",
    "        \"genre\": movie[\"genre\"],\n",
    "        \"year\": movie[\"year\"],\n",
    "        \"description\": movie[\"description\"]\n",
    "    }\n",
    "    vector_data.append((movie[\"id\"], vector, meta))\n",
    "\n",
    "# 벡터들을 Pinecone 인덱스에 업서트\n",
    "index.upsert(vectors=vector_data)"
   ]
  },
  {
   "cell_type": "code",
   "execution_count": 10,
   "id": "a5d8b16a",
   "metadata": {},
   "outputs": [
    {
     "name": "stdout",
     "output_type": "stream",
     "text": [
      "기생충 - 2019.0 (드라마)\n",
      "7번방의 선물 - 2013.0 (드라마)\n"
     ]
    }
   ],
   "source": [
    "# 검색 쿼리 예시\n",
    "query_text = \"감성적인 드라마 영화 추천해줘\"\n",
    "\n",
    "# 쿼리 문장을 임베딩 벡터로 변환\n",
    "query_vector = embeddings.embed_query(query_text)\n",
    "\n",
    "# Pinecone에서 벡터 유사도 검색 수행 (코사인 유사도 기반)\n",
    "# 상위 3개의 가장 가까운 벡터를 찾고, 메타데이터를 포함하여 반환\n",
    "result = index.query(vector=query_vector, top_k=2, include_metadata=True)\n",
    "\n",
    "# 결과 출력: 각 결과의 제목, 연도, 장르를 표시\n",
    "for match in result[\"matches\"]:\n",
    "    info = match[\"metadata\"]\n",
    "    print(f\"{info['title']} - {info['year']} ({info['genre']})\")"
   ]
  },
  {
   "cell_type": "code",
   "execution_count": 11,
   "id": "9df08256",
   "metadata": {},
   "outputs": [
    {
     "name": "stdout",
     "output_type": "stream",
     "text": [
      "범죄도시 2 - 2022.0 (범죄)\n",
      "헤어질 결심 - 2022.0 (범죄)\n",
      "다만 악에서 구하소서 - 2020.0 (범죄)\n"
     ]
    }
   ],
   "source": [
    "# 메타데이터 기반 검색\n",
    "# 메타데이터 필터를 활용한 검색: 2020년 이후 개봉한 영화들 중 상위 3개 반환\n",
    "query_text2 = \"영화\"  # 매우 일반적인 쿼리\n",
    "query_vector2 = embeddings.embed_query(query_text2)\n",
    "\n",
    "# year 필터 적용 (year >= 2020인 항목만 대상)\n",
    "filter_condition = {\"year\": {\"$gte\": 2020}}\n",
    "\n",
    "result2 = index.query(vector=query_vector2, top_k=3, filter=filter_condition, include_metadata=True)\n",
    "\n",
    "for match in result2[\"matches\"]:\n",
    "    info = match[\"metadata\"]\n",
    "    print(f\"{info['title']} - {info['year']} ({info['genre']})\")"
   ]
  },
  {
   "cell_type": "code",
   "execution_count": 12,
   "id": "82d9a6b4",
   "metadata": {},
   "outputs": [
    {
     "name": "stdout",
     "output_type": "stream",
     "text": [
      "다만 악에서 구하소서 - 2020.0 (범죄)\n",
      "범죄도시 2 - 2022.0 (범죄)\n",
      "헤어질 결심 - 2022.0 (범죄)\n"
     ]
    }
   ],
   "source": [
    "# 쿼리 필터 - 하이브리드검색\n",
    "# 하이브리드 검색 예시: \"2020년 이후의 범죄 영화 보여줘\"\n",
    "hybrid_query = \"2020년 이후의 범죄 영화 보여줘\"\n",
    "\n",
    "# 쿼리 임베딩 벡터 생성\n",
    "hybrid_vector = embeddings.embed_query(hybrid_query)\n",
    "\n",
    "# 필터 조건 설정: 2020년 이후 & 장르 범죄\n",
    "hybrid_filter = {\n",
    "    \"year\": {\"$gte\": 2020},\n",
    "    \"genre\": {\"$eq\": \"범죄\"}\n",
    "}\n",
    "\n",
    "# Pinecone 검색 실행 (쿼리+필터)\n",
    "result3 = index.query(vector=hybrid_vector, top_k=3, filter=hybrid_filter, include_metadata=True)\n",
    "\n",
    "for match in result3[\"matches\"]:\n",
    "    info = match[\"metadata\"]\n",
    "    print(f\"{info['title']} - {info['year']} ({info['genre']})\")\n"
   ]
  },
  {
   "cell_type": "code",
   "execution_count": null,
   "id": "ee56149d",
   "metadata": {},
   "outputs": [],
   "source": []
  }
 ],
 "metadata": {
  "kernelspec": {
   "display_name": "api",
   "language": "python",
   "name": "python3"
  },
  "language_info": {
   "codemirror_mode": {
    "name": "ipython",
    "version": 3
   },
   "file_extension": ".py",
   "mimetype": "text/x-python",
   "name": "python",
   "nbconvert_exporter": "python",
   "pygments_lexer": "ipython3",
   "version": "3.13.4"
  }
 },
 "nbformat": 4,
 "nbformat_minor": 5
}
